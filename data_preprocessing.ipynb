{
 "cells": [
  {
   "cell_type": "code",
   "execution_count": 1,
   "metadata": {},
   "outputs": [],
   "source": [
    "import numpy as np\n",
    "import pandas as pd\n",
    "import matplotlib.pyplot as plt\n",
    "\n",
    "from pprint import pprint\n",
    "\n",
    "from bs4 import BeautifulSoup\n",
    "import re\n",
    "\n",
    "from nltk.tokenize import WordPunctTokenizer\n"
   ]
  },
  {
   "cell_type": "code",
   "execution_count": 2,
   "metadata": {
    "scrolled": true
   },
   "outputs": [],
   "source": [
    "cols=[\"sentiment\",\"id\",\"date\",\"query\",\"user\",\"text\"]\n",
    "df = pd.read_csv(\"training.1600000.processed.noemoticon.csv\",encoding=\"ISO-8859-1\",header=None, names=cols)"
   ]
  },
  {
   "cell_type": "code",
   "execution_count": 3,
   "metadata": {},
   "outputs": [],
   "source": [
    "#dropping columns that we don't need for our purpose\n",
    "df.drop([\"id\",\"date\",\"query\",\"user\"],axis=1,inplace=True)"
   ]
  },
  {
   "cell_type": "code",
   "execution_count": 4,
   "metadata": {},
   "outputs": [],
   "source": [
    "#calculating the length of each tweet in text column\n",
    "df[\"pre_clean_len\"] = [len(t) for t in df.text]"
   ]
  },
  {
   "cell_type": "code",
   "execution_count": 5,
   "metadata": {
    "scrolled": true
   },
   "outputs": [
    {
     "name": "stdout",
     "output_type": "stream",
     "text": [
      "{'dataset_shape': (1600000, 3),\n",
      " 'pre_clean_len': {'description': 'tweets length before cleaning',\n",
      "                   'type': dtype('int64')},\n",
      " 'sentiment': {'description': 'sentiment class : 0:negative , 1:positive ',\n",
      "               'type': dtype('int64')},\n",
      " 'text': {'description': 'tweets', 'type': dtype('O')}}\n"
     ]
    }
   ],
   "source": [
    "#Data dictionnary\n",
    "\n",
    "data_dict={\n",
    "    \"sentiment\":{\n",
    "        'type': df.sentiment.dtype,\n",
    "        'description': \"sentiment class : 0:negative , 1:positive \"\n",
    "    },\n",
    "    \"text\":\n",
    "    {\n",
    "        'type': df.text.dtype,\n",
    "        'description': \"tweets\"\n",
    "    },\n",
    "    \"pre_clean_len\":\n",
    "    {\n",
    "        'type': df.pre_clean_len.dtype,\n",
    "        'description': \"tweets length before cleaning\"\n",
    "    },\n",
    "    'dataset_shape':df.shape\n",
    "    \n",
    "}\n",
    "\n",
    "pprint(data_dict)"
   ]
  },
  {
   "cell_type": "code",
   "execution_count": 6,
   "metadata": {
    "scrolled": true
   },
   "outputs": [
    {
     "data": {
      "image/png": "[encoded data removed]",
      "text/plain": [
       "<Figure size 360x360 with 1 Axes>"
      ]
     },
     "metadata": {
      "needs_background": "light"
     },
     "output_type": "display_data"
    }
   ],
   "source": [
    "#boxplot visualization of tweets string length\n",
    "fig, ax = plt.subplots(figsize=(5, 5))\n",
    "plt.boxplot(df.pre_clean_len)\n",
    "plt.show()"
   ]
  },
  {
   "cell_type": "code",
   "execution_count": 11,
   "metadata": {},
   "outputs": [],
   "source": [
    "tok = WordPunctTokenizer()\n",
    "#regex for @mention detection\n",
    "mention_regex = r'@[A-Za-z0-9]+'\n",
    "#regex for links detection\n",
    "http_regex = r'https?://[^ ]+'\n",
    "www_regex = r'www.[^ ]+'\n",
    "bom_removing = \"ï¿½\"\n",
    "combined_regex = r'|'.join((mention_regex, http_regex))\n",
    "#negation dictionnary\n",
    "negations_dic = {\"isn't\":\"is not\", \"aren't\":\"are not\", \"wasn't\":\"was not\", \"weren't\":\"were not\",\n",
    "                \"haven't\":\"have not\",\"hasn't\":\"has not\",\"hadn't\":\"had not\",\"won't\":\"will not\",\n",
    "                \"wouldn't\":\"would not\", \"don't\":\"do not\", \"doesn't\":\"does not\",\"didn't\":\"did not\",\n",
    "                \"can't\":\"can not\",\"couldn't\":\"could not\",\"shouldn't\":\"should not\",\"mightn't\":\"might not\",\n",
    "                \"mustn't\":\"must not\"}\n",
    "neg_pattern = re.compile(r'\\b(' + '|'.join(negations_dic.keys()) + r')\\b')"
   ]
  },
  {
   "cell_type": "code",
   "execution_count": 12,
   "metadata": {},
   "outputs": [],
   "source": [
    "#main function for cleaning the tweets\n",
    "def tweet_cleaner(text):\n",
    "    soup = BeautifulSoup(text,\"lxml\")\n",
    "    souped = soup.get_text()\n",
    "    stripped = re.sub(combined_regex, '', souped)\n",
    "    \n",
    "    try:\n",
    "        bom_removed = souped.replace(bom_removing, \"?\")\n",
    "    except:\n",
    "        bom_removed = souped\n",
    "        \n",
    "    stripped = re.sub(combined_regex, '', bom_removed)\n",
    "    stripped = re.sub(www_regex, '', stripped)\n",
    "    \n",
    "    lower_case = stripped.lower()\n",
    "    \n",
    "    neg_handled = neg_pattern.sub(lambda x: negations_dic[x.group()], lower_case)\n",
    "    \n",
    "    letters_only = re.sub(\"[^a-zA-Z]\", \" \", neg_handled)\n",
    "    \n",
    "    words = [x for x  in tok.tokenize(letters_only) if len(x) > 1]\n",
    "    \n",
    "    return (\" \".join(words)).strip()\n",
    "        "
   ]
  },
  {
   "cell_type": "code",
   "execution_count": 14,
   "metadata": {},
   "outputs": [
    {
     "name": "stdout",
     "output_type": "stream",
     "text": [
      "Cleaning and parsing the tweets...\n",
      "\n",
      "Tweets 10000 of 1600000 has been processed\n",
      "Tweets 20000 of 1600000 has been processed\n",
      "Tweets 30000 of 1600000 has been processed\n",
      "Tweets 40000 of 1600000 has been processed\n",
      "Tweets 50000 of 1600000 has been processed\n",
      "Tweets 60000 of 1600000 has been processed\n",
      "Tweets 70000 of 1600000 has been processed\n",
      "Tweets 80000 of 1600000 has been processed\n",
      "Tweets 90000 of 1600000 has been processed\n",
      "Tweets 100000 of 1600000 has been processed\n",
      "Tweets 110000 of 1600000 has been processed\n",
      "Tweets 120000 of 1600000 has been processed\n",
      "Tweets 130000 of 1600000 has been processed\n",
      "Tweets 140000 of 1600000 has been processed\n",
      "Tweets 150000 of 1600000 has been processed\n",
      "Tweets 160000 of 1600000 has been processed\n",
      "Tweets 170000 of 1600000 has been processed\n",
      "Tweets 180000 of 1600000 has been processed\n",
      "Tweets 190000 of 1600000 has been processed\n",
      "Tweets 200000 of 1600000 has been processed\n",
      "Tweets 210000 of 1600000 has been processed\n",
      "Tweets 220000 of 1600000 has been processed\n",
      "Tweets 230000 of 1600000 has been processed\n",
      "Tweets 240000 of 1600000 has been processed\n",
      "Tweets 250000 of 1600000 has been processed\n",
      "Tweets 260000 of 1600000 has been processed\n",
      "Tweets 270000 of 1600000 has been processed\n",
      "Tweets 280000 of 1600000 has been processed\n",
      "Tweets 290000 of 1600000 has been processed\n",
      "Tweets 300000 of 1600000 has been processed\n",
      "Tweets 310000 of 1600000 has been processed\n",
      "Tweets 320000 of 1600000 has been processed\n",
      "Tweets 330000 of 1600000 has been processed\n",
      "Tweets 340000 of 1600000 has been processed\n",
      "Tweets 350000 of 1600000 has been processed\n",
      "Tweets 360000 of 1600000 has been processed\n",
      "Tweets 370000 of 1600000 has been processed\n",
      "Tweets 380000 of 1600000 has been processed\n",
      "Tweets 390000 of 1600000 has been processed\n",
      "Tweets 400000 of 1600000 has been processed\n",
      "Tweets 410000 of 1600000 has been processed\n",
      "Tweets 420000 of 1600000 has been processed\n",
      "Tweets 430000 of 1600000 has been processed\n",
      "Tweets 440000 of 1600000 has been processed\n",
      "Tweets 450000 of 1600000 has been processed\n",
      "Tweets 460000 of 1600000 has been processed\n",
      "Tweets 470000 of 1600000 has been processed\n",
      "Tweets 480000 of 1600000 has been processed\n",
      "Tweets 490000 of 1600000 has been processed\n",
      "Tweets 500000 of 1600000 has been processed\n",
      "Tweets 510000 of 1600000 has been processed\n",
      "Tweets 520000 of 1600000 has been processed\n",
      "Tweets 530000 of 1600000 has been processed\n",
      "Tweets 540000 of 1600000 has been processed\n",
      "Tweets 550000 of 1600000 has been processed\n",
      "Tweets 560000 of 1600000 has been processed\n",
      "Tweets 570000 of 1600000 has been processed\n",
      "Tweets 580000 of 1600000 has been processed\n",
      "Tweets 590000 of 1600000 has been processed\n",
      "Tweets 600000 of 1600000 has been processed\n",
      "Tweets 610000 of 1600000 has been processed\n",
      "Tweets 620000 of 1600000 has been processed\n",
      "Tweets 630000 of 1600000 has been processed\n",
      "Tweets 640000 of 1600000 has been processed\n",
      "Tweets 650000 of 1600000 has been processed\n",
      "Tweets 660000 of 1600000 has been processed\n",
      "Tweets 670000 of 1600000 has been processed\n",
      "Tweets 680000 of 1600000 has been processed\n",
      "Tweets 690000 of 1600000 has been processed\n",
      "Tweets 700000 of 1600000 has been processed\n",
      "Tweets 710000 of 1600000 has been processed\n",
      "Tweets 720000 of 1600000 has been processed\n",
      "Tweets 730000 of 1600000 has been processed\n",
      "Tweets 740000 of 1600000 has been processed\n",
      "Tweets 750000 of 1600000 has been processed\n",
      "Tweets 760000 of 1600000 has been processed\n",
      "Tweets 770000 of 1600000 has been processed\n",
      "Tweets 780000 of 1600000 has been processed\n",
      "Tweets 790000 of 1600000 has been processed\n",
      "Tweets 800000 of 1600000 has been processed\n",
      "Tweets 810000 of 1600000 has been processed\n",
      "Tweets 820000 of 1600000 has been processed\n",
      "Tweets 830000 of 1600000 has been processed\n",
      "Tweets 840000 of 1600000 has been processed\n",
      "Tweets 850000 of 1600000 has been processed\n",
      "Tweets 860000 of 1600000 has been processed\n",
      "Tweets 870000 of 1600000 has been processed\n",
      "Tweets 880000 of 1600000 has been processed\n",
      "Tweets 890000 of 1600000 has been processed\n",
      "Tweets 900000 of 1600000 has been processed\n",
      "Tweets 910000 of 1600000 has been processed\n",
      "Tweets 920000 of 1600000 has been processed\n",
      "Tweets 930000 of 1600000 has been processed\n",
      "Tweets 940000 of 1600000 has been processed\n",
      "Tweets 950000 of 1600000 has been processed\n",
      "Tweets 960000 of 1600000 has been processed\n",
      "Tweets 970000 of 1600000 has been processed\n",
      "Tweets 980000 of 1600000 has been processed\n",
      "Tweets 990000 of 1600000 has been processed\n",
      "Tweets 1000000 of 1600000 has been processed\n",
      "Tweets 1010000 of 1600000 has been processed\n",
      "Tweets 1020000 of 1600000 has been processed\n",
      "Tweets 1030000 of 1600000 has been processed\n",
      "Tweets 1040000 of 1600000 has been processed\n",
      "Tweets 1050000 of 1600000 has been processed\n",
      "Tweets 1060000 of 1600000 has been processed\n",
      "Tweets 1070000 of 1600000 has been processed\n",
      "Tweets 1080000 of 1600000 has been processed\n",
      "Tweets 1090000 of 1600000 has been processed\n",
      "Tweets 1100000 of 1600000 has been processed\n",
      "Tweets 1110000 of 1600000 has been processed\n",
      "Tweets 1120000 of 1600000 has been processed\n",
      "Tweets 1130000 of 1600000 has been processed\n",
      "Tweets 1140000 of 1600000 has been processed\n",
      "Tweets 1150000 of 1600000 has been processed\n",
      "Tweets 1160000 of 1600000 has been processed\n",
      "Tweets 1170000 of 1600000 has been processed\n",
      "Tweets 1180000 of 1600000 has been processed\n",
      "Tweets 1190000 of 1600000 has been processed\n",
      "Tweets 1200000 of 1600000 has been processed\n",
      "Tweets 1210000 of 1600000 has been processed\n",
      "Tweets 1220000 of 1600000 has been processed\n",
      "Tweets 1230000 of 1600000 has been processed\n",
      "Tweets 1240000 of 1600000 has been processed\n",
      "Tweets 1250000 of 1600000 has been processed\n",
      "Tweets 1260000 of 1600000 has been processed\n",
      "Tweets 1270000 of 1600000 has been processed\n",
      "Tweets 1280000 of 1600000 has been processed\n",
      "Tweets 1290000 of 1600000 has been processed\n",
      "Tweets 1300000 of 1600000 has been processed\n",
      "Tweets 1310000 of 1600000 has been processed\n",
      "Tweets 1320000 of 1600000 has been processed\n",
      "Tweets 1330000 of 1600000 has been processed\n",
      "Tweets 1340000 of 1600000 has been processed\n",
      "Tweets 1350000 of 1600000 has been processed\n",
      "Tweets 1360000 of 1600000 has been processed\n",
      "Tweets 1370000 of 1600000 has been processed\n",
      "Tweets 1380000 of 1600000 has been processed\n",
      "Tweets 1390000 of 1600000 has been processed\n",
      "Tweets 1400000 of 1600000 has been processed\n",
      "Tweets 1410000 of 1600000 has been processed\n",
      "Tweets 1420000 of 1600000 has been processed\n",
      "Tweets 1430000 of 1600000 has been processed\n",
      "Tweets 1440000 of 1600000 has been processed\n",
      "Tweets 1450000 of 1600000 has been processed\n",
      "Tweets 1460000 of 1600000 has been processed\n",
      "Tweets 1470000 of 1600000 has been processed\n",
      "Tweets 1480000 of 1600000 has been processed\n",
      "Tweets 1490000 of 1600000 has been processed\n",
      "Tweets 1500000 of 1600000 has been processed\n",
      "Tweets 1510000 of 1600000 has been processed\n",
      "Tweets 1520000 of 1600000 has been processed\n",
      "Tweets 1530000 of 1600000 has been processed\n",
      "Tweets 1540000 of 1600000 has been processed\n",
      "Tweets 1550000 of 1600000 has been processed\n",
      "Tweets 1560000 of 1600000 has been processed\n",
      "Tweets 1570000 of 1600000 has been processed\n",
      "Tweets 1580000 of 1600000 has been processed\n",
      "Tweets 1590000 of 1600000 has been processed\n",
      "Tweets 1600000 of 1600000 has been processed\n"
     ]
    }
   ],
   "source": [
    "nums = [0,400000,800000,1200000,1600000]\n",
    "print (\"Cleaning and parsing the tweets...\\n\")\n",
    "clean_tweet_texts = []\n",
    "#i cleaned the wole dataset\n",
    "for i in range(nums[0],nums[4]):\n",
    "    if( (i+1)%10000 == 0 ):\n",
    "        print (\"Tweets %d of %d has been processed\" % ( i+1, nums[4] ) )                                                                   \n",
    "    clean_tweet_texts.append(tweet_cleaner(df['text'][i]))"
   ]
  },
  {
   "cell_type": "code",
   "execution_count": 15,
   "metadata": {},
   "outputs": [
    {
     "data": {
      "text/html": [
       "<div>\n",
       "<style scoped>\n",
       "    .dataframe tbody tr th:only-of-type {\n",
       "        vertical-align: middle;\n",
       "    }\n",
       "\n",
       "    .dataframe tbody tr th {\n",
       "        vertical-align: top;\n",
       "    }\n",
       "\n",
       "    .dataframe thead th {\n",
       "        text-align: right;\n",
       "    }\n",
       "</style>\n",
       "<table border=\"1\" class=\"dataframe\">\n",
       "  <thead>\n",
       "    <tr style=\"text-align: right;\">\n",
       "      <th></th>\n",
       "      <th>text</th>\n",
       "      <th>target</th>\n",
       "    </tr>\n",
       "  </thead>\n",
       "  <tbody>\n",
       "    <tr>\n",
       "      <th>0</th>\n",
       "      <td>awww that bummer you shoulda got david carr of...</td>\n",
       "      <td>0</td>\n",
       "    </tr>\n",
       "    <tr>\n",
       "      <th>1</th>\n",
       "      <td>is upset that he can not update his facebook b...</td>\n",
       "      <td>0</td>\n",
       "    </tr>\n",
       "    <tr>\n",
       "      <th>2</th>\n",
       "      <td>dived many times for the ball managed to save ...</td>\n",
       "      <td>0</td>\n",
       "    </tr>\n",
       "    <tr>\n",
       "      <th>3</th>\n",
       "      <td>my whole body feels itchy and like its on fire</td>\n",
       "      <td>0</td>\n",
       "    </tr>\n",
       "    <tr>\n",
       "      <th>4</th>\n",
       "      <td>no it not behaving at all mad why am here beca...</td>\n",
       "      <td>0</td>\n",
       "    </tr>\n",
       "  </tbody>\n",
       "</table>\n",
       "</div>"
      ],
      "text/plain": [
       "                                                text  target\n",
       "0  awww that bummer you shoulda got david carr of...       0\n",
       "1  is upset that he can not update his facebook b...       0\n",
       "2  dived many times for the ball managed to save ...       0\n",
       "3     my whole body feels itchy and like its on fire       0\n",
       "4  no it not behaving at all mad why am here beca...       0"
      ]
     },
     "execution_count": 15,
     "metadata": {},
     "output_type": "execute_result"
    }
   ],
   "source": [
    "clean_df = pd.DataFrame(clean_tweet_texts,columns=['text'])\n",
    "clean_df['target'] = df.sentiment\n",
    "clean_df.head()"
   ]
  },
  {
   "cell_type": "code",
   "execution_count": 20,
   "metadata": {},
   "outputs": [
    {
     "name": "stdout",
     "output_type": "stream",
     "text": [
      "<class 'pandas.core.frame.DataFrame'>\n",
      "RangeIndex: 1596522 entries, 0 to 1596521\n",
      "Data columns (total 2 columns):\n",
      "text      1596522 non-null object\n",
      "target    1596522 non-null int64\n",
      "dtypes: int64(1), object(1)\n",
      "memory usage: 24.4+ MB\n"
     ]
    }
   ],
   "source": [
    "my_df.dropna(inplace=True)\n",
    "my_df.reset_index(drop=True,inplace=True)\n",
    "my_df.info()"
   ]
  },
  {
   "cell_type": "code",
   "execution_count": 19,
   "metadata": {},
   "outputs": [
    {
     "data": {
      "text/html": [
       "<div>\n",
       "<style scoped>\n",
       "    .dataframe tbody tr th:only-of-type {\n",
       "        vertical-align: middle;\n",
       "    }\n",
       "\n",
       "    .dataframe tbody tr th {\n",
       "        vertical-align: top;\n",
       "    }\n",
       "\n",
       "    .dataframe thead th {\n",
       "        text-align: right;\n",
       "    }\n",
       "</style>\n",
       "<table border=\"1\" class=\"dataframe\">\n",
       "  <thead>\n",
       "    <tr style=\"text-align: right;\">\n",
       "      <th></th>\n",
       "      <th>text</th>\n",
       "      <th>target</th>\n",
       "    </tr>\n",
       "  </thead>\n",
       "  <tbody>\n",
       "    <tr>\n",
       "      <th>0</th>\n",
       "      <td>awww that bummer you shoulda got david carr of...</td>\n",
       "      <td>0</td>\n",
       "    </tr>\n",
       "    <tr>\n",
       "      <th>1</th>\n",
       "      <td>is upset that he can not update his facebook b...</td>\n",
       "      <td>0</td>\n",
       "    </tr>\n",
       "    <tr>\n",
       "      <th>2</th>\n",
       "      <td>dived many times for the ball managed to save ...</td>\n",
       "      <td>0</td>\n",
       "    </tr>\n",
       "    <tr>\n",
       "      <th>3</th>\n",
       "      <td>my whole body feels itchy and like its on fire</td>\n",
       "      <td>0</td>\n",
       "    </tr>\n",
       "    <tr>\n",
       "      <th>4</th>\n",
       "      <td>no it not behaving at all mad why am here beca...</td>\n",
       "      <td>0</td>\n",
       "    </tr>\n",
       "  </tbody>\n",
       "</table>\n",
       "</div>"
      ],
      "text/plain": [
       "                                                text  target\n",
       "0  awww that bummer you shoulda got david carr of...       0\n",
       "1  is upset that he can not update his facebook b...       0\n",
       "2  dived many times for the ball managed to save ...       0\n",
       "3     my whole body feels itchy and like its on fire       0\n",
       "4  no it not behaving at all mad why am here beca...       0"
      ]
     },
     "execution_count": 19,
     "metadata": {},
     "output_type": "execute_result"
    }
   ],
   "source": [
    "clean_df.to_csv('clean_tweet.csv',encoding='utf-8')\n",
    "csv = 'clean_tweet.csv'\n",
    "my_df = pd.read_csv(csv,index_col=0)\n",
    "my_df.head()"
   ]
  },
  {
   "cell_type": "code",
   "execution_count": null,
   "metadata": {},
   "outputs": [],
   "source": []
  }
 ],
 "metadata": {
  "kernelspec": {
   "display_name": "Python 3",
   "language": "python",
   "name": "python3"
  },
  "language_info": {
   "codemirror_mode": {
    "name": "ipython",
    "version": 3
   },
   "file_extension": ".py",
   "mimetype": "text/x-python",
   "name": "python",
   "nbconvert_exporter": "python",
   "pygments_lexer": "ipython3",
   "version": "3.7.1"
  }
 },
 "nbformat": 4,
 "nbformat_minor": 2
}
